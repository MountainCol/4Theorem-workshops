{
 "cells": [
  {
   "cell_type": "markdown",
   "metadata": {},
   "source": [
    "# Step 7\n",
    "You should now have deployed the Analysis Lambda service. We can use the code in this notebook to test the service. Firstly run the code below to view the contents of your data bucket."
   ]
  },
  {
   "cell_type": "code",
   "execution_count": 7,
   "metadata": {},
   "outputs": [
    {
     "name": "stdout",
     "output_type": "stream",
     "text": [
      "\n",
      "cckkaopdv.ai-as-a-service.s3-website-eu-west-1.amazonaws.com/bcb0cd70-03f0-11eb-9350-b37aa6c39450 (66904)\n",
      "cckkaopdv.ai-as-a-service.s3-website-eu-west-1.amazonaws.com/bcb56150-03f0-11eb-9350-b37aa6c39450 (27156)\n",
      "cckkaopdv.ai-as-a-service.s3-website-eu-west-1.amazonaws.com/bcb5d680-03f0-11eb-9350-b37aa6c39450 (85512)\n",
      "cckkaopdv.ai-as-a-service.s3-website-eu-west-1.amazonaws.com/bcb78430-03f0-11eb-9350-b37aa6c39450 (21958)\n",
      "cckkaopdv.ai-as-a-service.s3-website-eu-west-1.amazonaws.com/bcb86e90-03f0-11eb-9350-b37aa6c39450 (128672)\n",
      "cckkaopdv.ai-as-a-service.s3-website-eu-west-1.amazonaws.com/bcbb2db0-03f0-11eb-9350-b37aa6c39450 (304374)\n",
      "cckkaopdv.ai-as-a-service.s3-website-eu-west-1.amazonaws.com/bcbe8910-03f0-11eb-9350-b37aa6c39450 (574680)\n",
      "cckkaopdv.ai-as-a-service.s3-website-eu-west-1.amazonaws.com/bcc14830-03f0-11eb-9350-b37aa6c39450 (1246129)\n",
      "cckkaopdv.ai-as-a-service.s3-website-eu-west-1.amazonaws.com/status.json (1055)\n",
      "images/2007_iconic_acting_lewis_Cotillard_Swinton_Bardem.jpg (149296)\n",
      "images/Business_Meeting.jpg (200500)\n",
      "images/Business_Meeting_boxed.png (358705)\n",
      "images/Sci-Tech-Oscars-group-photo.jpg (284273)\n",
      "images/cat-pet-animal-domestic-104827.jpeg (14139)\n",
      "images/celebs_orig.jpg (43793)\n",
      "images/picard.jpg (122760)\n",
      "wyqgmi6nq.ai-as-a-service.s3-website-eu-west-1.amazonaws.com/da6f1740-03f0-11eb-9350-b37aa6c39450 (66904)\n",
      "wyqgmi6nq.ai-as-a-service.s3-website-eu-west-1.amazonaws.com/da7076d0-03f0-11eb-9350-b37aa6c39450 (27156)\n",
      "wyqgmi6nq.ai-as-a-service.s3-website-eu-west-1.amazonaws.com/da70ec00-03f0-11eb-9350-b37aa6c39450 (21958)\n",
      "wyqgmi6nq.ai-as-a-service.s3-website-eu-west-1.amazonaws.com/da71af50-03f0-11eb-9350-b37aa6c39450 (128672)\n",
      "wyqgmi6nq.ai-as-a-service.s3-website-eu-west-1.amazonaws.com/da7299b0-03f0-11eb-9350-b37aa6c39450 (85512)\n",
      "wyqgmi6nq.ai-as-a-service.s3-website-eu-west-1.amazonaws.com/da764330-03f0-11eb-9350-b37aa6c39450 (304374)\n",
      "wyqgmi6nq.ai-as-a-service.s3-website-eu-west-1.amazonaws.com/da7a13c0-03f0-11eb-9350-b37aa6c39450 (1246129)\n",
      "wyqgmi6nq.ai-as-a-service.s3-website-eu-west-1.amazonaws.com/da7ad710-03f0-11eb-9350-b37aa6c39450 (574680)\n",
      "wyqgmi6nq.ai-as-a-service.s3-website-eu-west-1.amazonaws.com/status.json (1055)\n",
      "ywuwxvxdw.ai-as-a-service.s3-website-eu-west-1.amazonaws.com/55610a40-03e1-11eb-ac79-6d8a404f1647 (21958)\n",
      "ywuwxvxdw.ai-as-a-service.s3-website-eu-west-1.amazonaws.com/55632d20-03e1-11eb-ac79-6d8a404f1647 (27156)\n",
      "ywuwxvxdw.ai-as-a-service.s3-website-eu-west-1.amazonaws.com/5563c960-03e1-11eb-ac79-6d8a404f1647 (66904)\n",
      "ywuwxvxdw.ai-as-a-service.s3-website-eu-west-1.amazonaws.com/55648cb0-03e1-11eb-ac79-6d8a404f1647 (128672)\n",
      "ywuwxvxdw.ai-as-a-service.s3-website-eu-west-1.amazonaws.com/55666170-03e1-11eb-ac79-6d8a404f1647 (85512)\n",
      "ywuwxvxdw.ai-as-a-service.s3-website-eu-west-1.amazonaws.com/5566d6a0-03e1-11eb-ac79-6d8a404f1647 (304374)\n",
      "ywuwxvxdw.ai-as-a-service.s3-website-eu-west-1.amazonaws.com/5569bcd0-03e1-11eb-ac79-6d8a404f1647 (574680)\n",
      "ywuwxvxdw.ai-as-a-service.s3-website-eu-west-1.amazonaws.com/55704c80-03e1-11eb-ac79-6d8a404f1647 (1246129)\n",
      "ywuwxvxdw.ai-as-a-service.s3-website-eu-west-1.amazonaws.com/status.json (1055)\n",
      "\n"
     ]
    }
   ],
   "source": [
    "// load the AWS SDK\n",
    "AWS = require('aws-sdk')\n",
    "support = require('../support')\n",
    "\n",
    "// create an S3 object to call\n",
    "s3 = new AWS.S3()\n",
    "\n",
    "// configure parameters\n",
    "params = {\n",
    "    Bucket: process.env.MY_BUCKET_NAME,\n",
    "//    Prefix: 'rekognition'\n",
    "}\n",
    "\n",
    "s3.listObjects(params, function(err, data) {\n",
    "  support.printS3Objects(data.Contents)\n",
    "})\n",
    "$$.clear()"
   ]
  },
  {
   "cell_type": "markdown",
   "metadata": {},
   "source": [
    "## Post a Message\n",
    "We will again post a message to our Crawler queue, only this time because the Analysis Service is deployed, it will pick up on a second message that is posted from the Crawler Service to the Analysis queue.\n",
    "\n",
    "Go ahead and run the code below."
   ]
  },
  {
   "cell_type": "code",
   "execution_count": 6,
   "metadata": {},
   "outputs": [
    {
     "name": "stdout",
     "output_type": "stream",
     "text": [
      "message id: 660d5d91-efd4-48a7-84a9-dec59b2f6d13\n"
     ]
    }
   ],
   "source": [
    "// load the AWS SDK\n",
    "AWS = require('aws-sdk')\n",
    "support = require('../support')\n",
    "\n",
    "// create an SQS object to call\n",
    "sqs = new AWS.SQS()\n",
    "\n",
    "// construct Queue URL\n",
    "queueUrl = `https://sqs.${process.env.AWS_REGION}.amazonaws.com/${process.env.AWS_ACCOUNT_ID}/${process.env.MY_CRAWLER_QUEUE}`\n",
    "\n",
    "// construct message parameters\n",
    "params = {\n",
    "  MessageBody: JSON.stringify({action: 'download', msg: {url: 'http://ai-as-a-service.s3-website-eu-west-1.amazonaws.com'}}),\n",
    "  QueueUrl: queueUrl\n",
    "}\n",
    "\n",
    "// send the message\n",
    "sqs.sendMessage(params, (err, data) => {\n",
    "    if (err) {\n",
    "        console.log(`QUEUE ERROR: ${err}`)\n",
    "    }\n",
    "    else {\n",
    "      console.log(`message id: ${data.MessageId}`)        \n",
    "    }\n",
    "})\n",
    "$$.clear()"
   ]
  },
  {
   "cell_type": "markdown",
   "metadata": {},
   "source": [
    "# 3. Check the Results\n",
    "If you rerun the code in 1. at the top of this notebook, you should see some additoinal files have been downloaded if our crawler executed successfully. You can confirm this if you look in the AWS S3 console.\n",
    "\n",
    "Congratulations! You have now deployed and triggered the crawler Lambda functions through SQS and collected some files for analysis.\n",
    "\n",
    "In the next step we will pass these to the analysis function."
   ]
  },
  {
   "cell_type": "code",
   "execution_count": null,
   "metadata": {},
   "outputs": [],
   "source": []
  }
 ],
 "metadata": {
  "kernelspec": {
   "display_name": "Javascript (Node.js)",
   "language": "javascript",
   "name": "javascript"
  },
  "language_info": {
   "file_extension": ".js",
   "mimetype": "application/javascript",
   "name": "javascript",
   "version": "14.4.0"
  }
 },
 "nbformat": 4,
 "nbformat_minor": 4
}
