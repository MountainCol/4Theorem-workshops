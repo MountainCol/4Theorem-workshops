{
 "cells": [
  {
   "cell_type": "markdown",
   "metadata": {},
   "source": [
    "# Step 8\n",
    "Now we have all of the back end for our system deployed, let's quickly test the API before we complete the system with a front end.\n",
    "\n",
    "Our API consists of 3 endpoints:\n",
    "\n",
    "* POST /url/analyze\n",
    "* GET /url/list\n",
    "* GET /image/list\n",
    "\n",
    "## 1. Post a url\n",
    "Firstly let's post a url for analysis. You will need to replace the `hostname` in the `options` block with your specific endpoint as ourput by the serverelss framework deployment command."
   ]
  },
  {
   "cell_type": "code",
   "execution_count": null,
   "metadata": {},
   "outputs": [],
   "source": [
    "https = require('https')\n",
    "\n",
    "body = JSON.stringify({\n",
    "  url: 'http://ai-as-a-service.s3-website-eu-west-1.amazonaws.com'\n",
    "})\n",
    "\n",
    "options = {\n",
    "  hostname: 'tkv7wa9hj4.execute-api.eu-west-1.amazonaws.com',   // <-- replace this with your hostname\n",
    "  port: 443,\n",
    "  path: '/dev/url/analyze',\n",
    "  method: 'POST',\n",
    "  headers: {\n",
    "    'Content-Type': 'application/json',\n",
    "    'Content-Length': body.length\n",
    "  }\n",
    "}\n",
    "\n",
    "req = https.request(options, res => {\n",
    "  console.log(`statusCode: ${res.statusCode}`)\n",
    "  res.on('data', d => {\n",
    "    console.log(JSON.stringify(JSON.parse(d.toString()), null, 2))\n",
    "  })\n",
    "})\n",
    "\n",
    "req.on('error', error => {\n",
    "  console.error(error)\n",
    "})\n",
    "\n",
    "req.write(body)\n",
    "req.end()\n",
    "$$.clear()"
   ]
  },
  {
   "cell_type": "markdown",
   "metadata": {},
   "source": [
    "You should see a response indicating that the message was posted OK.\n",
    "\n",
    "## 2. Check the URL list API\n",
    "Next run the code below to get a list of the URLs that have been ingested by the system. You will need to again replce the host name with one specific to your API."
   ]
  },
  {
   "cell_type": "code",
   "execution_count": null,
   "metadata": {},
   "outputs": [],
   "source": [
    "https = require('https')\n",
    "\n",
    "options = {\n",
    "  hostname: 'tkv7wa9hj4.execute-api.eu-west-1.amazonaws.com',    // <-- repace with your hostname\n",
    "  port: 443,\n",
    "  path: '/dev/url/list',\n",
    "  method: 'GET'\n",
    "}\n",
    "\n",
    "req = https.request(options, res => {\n",
    "  console.log(`statusCode: ${res.statusCode}`)\n",
    "  res.on('data', d => {\n",
    "    console.log(JSON.stringify(JSON.parse(d.toString()), null, 2))\n",
    "  })\n",
    "})\n",
    "\n",
    "req.on('error', error => {\n",
    "  console.error(error)\n",
    "})\n",
    "\n",
    "req.end()\n",
    "$$.clear()"
   ]
  },
  {
   "cell_type": "markdown",
   "metadata": {},
   "source": [
    "You should see a response indicating that the call completed OK and a list of URL showing a status of `analyzed` or `downloaded`.\n",
    "\n",
    "Note that each time we pass a URL into the system for analysis, a new unique key is created in S3 and the images are placed under this key.\n",
    "\n",
    "Congratulations you now have a working API. Let's deploy the final stage of the application the frontend."
   ]
  }
 ],
 "metadata": {
  "kernelspec": {
   "display_name": "Javascript (Node.js)",
   "language": "javascript",
   "name": "javascript"
  },
  "language_info": {
   "file_extension": ".js",
   "mimetype": "application/javascript",
   "name": "javascript",
   "version": "14.4.0"
  }
 },
 "nbformat": 4,
 "nbformat_minor": 4
}
