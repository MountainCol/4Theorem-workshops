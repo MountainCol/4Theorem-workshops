{
 "cells": [
  {
   "cell_type": "markdown",
   "metadata": {},
   "source": [
    "# Jupyter Lab + IJavascript extension\n",
    "## Jupyter + node.js FTW!\n",
    "\n",
    "# Image Recognition (Also Video)"
   ]
  },
  {
   "cell_type": "code",
   "execution_count": null,
   "metadata": {},
   "outputs": [],
   "source": [
    "support = require('./support')\n",
    "AWS = require('aws-sdk')\n",
    "\n",
    "s3 = new AWS.S3()\n",
    "\n",
    "s3.listObjects({Bucket: 'talkdemodata2020', Prefix: 'rekognition'}, function(err, data) {\n",
    "  support.printS3Objects(data.Contents)\n",
    "})\n",
    "$$.clear()"
   ]
  },
  {
   "cell_type": "markdown",
   "metadata": {},
   "source": [
    "# Label Detection\n",
    "![Eric the Cat](./rekognition/cat.jpeg \"Eric\")"
   ]
  },
  {
   "cell_type": "code",
   "execution_count": null,
   "metadata": {},
   "outputs": [],
   "source": [
    "support = require('./support')\n",
    "AWS = require('aws-sdk')\n",
    "\n",
    "rek = new AWS.Rekognition()\n",
    "\n",
    "imageParams = {\n",
    "  Image: {\n",
    "    S3Object: {\n",
    "      Bucket: 'talkdemodata2020',\n",
    "      Name: 'rekognition/cat-pet-animal-domestic-104827.jpeg'\n",
    "    }\n",
    "  },\n",
    "  MaxLabels: 10,\n",
    "  MinConfidence: 80\n",
    "}\n",
    "\n",
    "rek.detectLabels(imageParams, (err, data) => {\n",
    "  support.printRekResults(data)\n",
    "})\n",
    "$$.clear()"
   ]
  },
  {
   "cell_type": "markdown",
   "metadata": {},
   "source": [
    "# Face Detection\n",
    "![Meeting](rekognition/meeting.jpg \"Meeting\")"
   ]
  },
  {
   "cell_type": "code",
   "execution_count": null,
   "metadata": {},
   "outputs": [],
   "source": [
    "support = require('./support')\n",
    "AWS = require('aws-sdk')\n",
    "rek = new AWS.Rekognition()\n",
    "\n",
    "imageParams = {\n",
    "  Image: {\n",
    "    S3Object: {\n",
    "      Bucket: 'talkdemodata2020',\n",
    "      Name: 'rekognition/Business_Meeting.jpg'\n",
    "    }\n",
    "  }\n",
    "}\n",
    "\n",
    "rek.detectFaces(imageParams, (err, data) => {\n",
    "  support.boxImage(data.FaceDetails, './rekognition/meeting.jpg', './rekognition/meeting_boxed.png', err => {\n",
    "    $$.png(require('fs').readFileSync('./rekognition/meeting_boxed.png').toString('base64'));\n",
    "  })\n",
    "})\n",
    "$$.clear()"
   ]
  },
  {
   "cell_type": "markdown",
   "metadata": {},
   "source": [
    "# Celebrity Detection\n",
    "![Meeting](rekognition/celebs.jpg \"Celebs\")"
   ]
  },
  {
   "cell_type": "code",
   "execution_count": null,
   "metadata": {},
   "outputs": [],
   "source": [
    "support = require('./support')\n",
    "AWS = require('aws-sdk')\n",
    "\n",
    "rek = new AWS.Rekognition()\n",
    "\n",
    "imageParams = {\n",
    "  Image: {\n",
    "    S3Object: {\n",
    "      Bucket: 'talkdemodata2020',\n",
    "      Name: 'rekognition/celebs_orig.jpg'\n",
    "    }\n",
    "  },\n",
    "}\n",
    "\n",
    "rek.recognizeCelebrities(imageParams, (err, data) => {\n",
    "  support.boxCelebs(data.CelebrityFaces, err => {\n",
    "    $$.png(require('fs').readFileSync('./rekognition/celebs_boxed.png').toString('base64'));\n",
    "  })\n",
    "})\n",
    "$$.clear()"
   ]
  },
  {
   "cell_type": "markdown",
   "metadata": {},
   "source": [
    "# Face Comparison\n",
    "<img src='rekognition/better_captain.jpg' width='300'>&nbsp;&nbsp;<img src='rekognition/sci-oscars.jpg' width='600'>"
   ]
  },
  {
   "cell_type": "code",
   "execution_count": null,
   "metadata": {},
   "outputs": [],
   "source": [
    "support = require('./support')\n",
    "AWS = require('aws-sdk')\n",
    "\n",
    "rek = new AWS.Rekognition()\n",
    "\n",
    "imageParams = {\n",
    "  SimilarityThreshold: 90, \n",
    "  SourceImage: {\n",
    "    S3Object: {\n",
    "      Bucket: \"talkdemodata2020\", \n",
    "      Name: \"train/picard.jpg\"\n",
    "    }\n",
    "  }, \n",
    "  TargetImage: {\n",
    "    S3Object: {\n",
    "     Bucket: \"talkdemodata2020\", \n",
    "     Name: \"train/Sci-Tech-Oscars-group-photo.jpg\"\n",
    "    }\n",
    "  }\n",
    "}\n",
    "\n",
    "rek.compareFaces(imageParams, (err, data) => {\n",
    "  support.boxImage(data.FaceMatches, './rekognition/sci-oscars.jpg', './rekognition/sci-oscars_boxed.png', err => {\n",
    "    $$.jpeg(require('fs').readFileSync('./rekognition/sci-oscars_boxed.png').toString('base64'));\n",
    "  })\n",
    "})\n",
    "$$.clear()"
   ]
  },
  {
   "cell_type": "markdown",
   "metadata": {},
   "source": [
    "# Customization\n",
    "\n",
    "# Create a project\n",
    "\n",
    "```\n",
    "let params = {\n",
    "  ProjectName: <Name>\n",
    "};\n",
    "rekognition.createProject(params, function(err, data) {\n",
    "  // data.ProjectArn\n",
    "});\n",
    "```\n",
    "\n",
    "# Train with labeled data\n",
    "\n",
    "```\n",
    "let params = {\n",
    "  OutputConfig: { \n",
    "    S3Bucket: <Output bucket>\n",
    "  },\n",
    "  ProjectArn: <From createProject>\n",
    "  TestingData: {\n",
    "    Assets: [\n",
    "      {\n",
    "        GroundTruthManifest: {\n",
    "          <JSONL formatted labelled data>\n",
    "        }\n",
    "      },\n",
    "    ],\n",
    "  },\n",
    "  TrainingData: { /* required */\n",
    "    Assets: [\n",
    "      {\n",
    "        GroundTruthManifest: {\n",
    "          <JSONL formatted labelled data>\n",
    "        }\n",
    "      },\n",
    "    ]\n",
    "  },\n",
    "  VersionName: <Version>\n",
    "};\n",
    "\n",
    "rekognition.createProjectVersion(params, function(err, data) {\n",
    "  // data.ProjectVersionArn\n",
    "})\n",
    "```\n",
    "\n",
    "# Call the custom model\n",
    "\n",
    "```\n",
    "var params = {\n",
    "  Image: {\n",
    "    S3Object: {\n",
    "      ...\n",
    "    }\n",
    "  },\n",
    "  ProjectVersionArn: <From createProjectVersion>\n",
    "};\n",
    "rekognition.detectCustomLabels(params, function(err, data) {\n",
    "  // use data.Labels\n",
    "});\n",
    "```"
   ]
  },
  {
   "cell_type": "markdown",
   "metadata": {},
   "source": [
    "# Costs\n",
    "\n",
    "- 0.001 USD per image using standard API\n",
    "- 1 USD per hour training\n",
    "- 4 USD per custom inference hour avilability\n",
    "\n",
    "Costs can mount at volume. Switch stuff off when not in use!!"
   ]
  },
  {
   "cell_type": "code",
   "execution_count": null,
   "metadata": {},
   "outputs": [],
   "source": []
  }
 ],
 "metadata": {
  "kernelspec": {
   "display_name": "Javascript (Node.js)",
   "language": "javascript",
   "name": "javascript"
  },
  "language_info": {
   "file_extension": ".js",
   "mimetype": "application/javascript",
   "name": "javascript",
   "version": "12.14.1"
  }
 },
 "nbformat": 4,
 "nbformat_minor": 4
}
