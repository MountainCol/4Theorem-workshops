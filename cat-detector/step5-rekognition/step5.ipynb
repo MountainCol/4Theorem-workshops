{
 "cells": [
  {
   "cell_type": "markdown",
   "metadata": {},
   "source": [
    "# Step 5\n",
    "The code in this notebook uses some support functions defined in the file `../support.js` in the root of this repository.\n",
    "\n",
    "## 1 Upload images\n",
    "We have provided some test images in the directory `data/images` in this repository. Before we can run this notebook we will need to upload them to our S3 bucket that we just created. To do this run the code below:"
   ]
  },
  {
   "cell_type": "code",
   "execution_count": null,
   "metadata": {},
   "outputs": [],
   "source": [
    "exec = require('child_process').exec\n",
    "\n",
    "const ls = exec('aws s3 sync ../data/images/ s3://$MY_BUCKET_NAME/images', function (error, stdout, stderr) {\n",
    "  if (error) {\n",
    "    console.log(error)\n",
    "  }\n",
    "  console.log(stdout)\n",
    "  console.log(stderr)\n",
    "});\n",
    "\n",
    "ls.on('exit', function (code) {\n",
    "  console.log('Child process exited with exit code ' + code)\n",
    "})\n",
    "$$.clear()"
   ]
  },
  {
   "cell_type": "markdown",
   "metadata": {},
   "source": [
    "Note that we are cheating here a bit! The AWS SDK has a `putObject` function but this would require us to loop over the image files and call put object for each one. Instead we are creating a child process inside our container that calls the AWS CLI to run an s3 `sync` command. This will copy the files to the bucket for us.\n",
    "\n",
    "You should be able to see these images in your newly created bucket by opening the AWS web console and viewing the bucket.\n",
    "\n",
    "## 2 Label Detection\n",
    "First up let's use Rekognition to figure out what it thinks an image contains. This process is called label detection. In the code below we will ask Rekognition to find a maximum of ten labels in the image and only return labels that it has a greater than 80% confidence in.\n",
    "\n",
    "![Eric the Cat](../data/images/cat-pet-animal-domestic-104827.jpeg \"Eric\")"
   ]
  },
  {
   "cell_type": "code",
   "execution_count": null,
   "metadata": {},
   "outputs": [],
   "source": [
    "// load the AWS SDK\n",
    "AWS = require('aws-sdk')\n",
    "support = require('/home/dev/support')\n",
    "\n",
    "// create a Rekogntion object to call\n",
    "rek = new AWS.Rekognition()\n",
    "\n",
    "// configure parameters\n",
    "imageParams = {\n",
    "  Image: {\n",
    "    S3Object: {\n",
    "      Bucket: process.env.MY_BUCKET_NAME,\n",
    "      Name: 'images/cat-pet-animal-domestic-104827.jpeg'\n",
    "    }\n",
    "  },\n",
    "  MaxLabels: 10,\n",
    "  MinConfidence: 80\n",
    "}\n",
    "\n",
    "// call Rekognition\n",
    "rek.detectLabels(imageParams, (err, data) => {\n",
    "  console.log(data)              // print raw results\n",
    "  support.printRekResults(data)  // print formatted results\n",
    "})\n",
    "$$.clear()"
   ]
  },
  {
   "cell_type": "markdown",
   "metadata": {},
   "source": [
    "The call to rekogntion returns JSON formatted data, we have provided an additional support fuction that formats the output. Notice that each label comes with an associated confidence level (a number between 0 and 100). It is important when using AI services that you interpret this confidence level. For example it is usually not a good idea to classify an image with a less than 90% confidence level. This does of course depend on the business context.\n",
    "\n",
    "\n",
    "## 2 Face Detection\n",
    "Here is a picture of some happy go getting executives at a business meeting!\n",
    "\n",
    "![Meeting](../data/images/Business_Meeting.jpg \"Meeting\")\n",
    "\n",
    "AWS Rekognition has built in facial recognition capabilities. The code below wil feed this image to Rekognition and ask it to detect faces in the image."
   ]
  },
  {
   "cell_type": "code",
   "execution_count": null,
   "metadata": {},
   "outputs": [],
   "source": [
    "// load the AWS SDK\n",
    "AWS = require('aws-sdk')\n",
    "support = require('/home/dev/support')\n",
    "\n",
    "// create a Rekogntion object to call\n",
    "rek = new AWS.Rekognition()\n",
    "\n",
    "// configure parameters\n",
    "imageParams = {\n",
    "  Image: {\n",
    "    S3Object: {\n",
    "      Bucket: process.env.MY_BUCKET_NAME,\n",
    "      Name: 'images/Business_Meeting.jpg'\n",
    "    }\n",
    "  }\n",
    "}\n",
    "\n",
    "// call the detect faces API\n",
    "rek.detectFaces(imageParams, (err, data) => {\n",
    "  console.log(data)  // output the raw JSON\n",
    "  support.boxImage(data.FaceDetails, '../data/images/Business_Meeting.jpg', '../data/images/Business_Meeting_boxed.png', err => {\n",
    "    // draw the boxed image\n",
    "    $$.png(require('fs').readFileSync('../data/images/Business_Meeting_boxed.png').toString('base64'));\n",
    "  })\n",
    "})\n",
    "$$.clear()"
   ]
  },
  {
   "cell_type": "markdown",
   "metadata": {},
   "source": [
    "In the example, we have used some supporting code to draw rectangles over the image based on the results returned by Rekognition. This is in the function `boxImage` in `support.js` in the root of this repository.\n",
    "\n",
    "\n",
    "# Celebrity Detection\n",
    "Rekognition also has build in APIs for detecting celebreties. The image below was take at the 2007 Oscars.\n",
    "\n",
    "![Celebs](../data/images/2007_iconic_acting_lewis_Cotillard_Swinton_Bardem.jpg \"Celebs\")\n",
    "\n",
    "Now it's your turn to try calling Rekognition. Following the pattern from the last two examples, configure the parameters and figure out the API to call. We have provided you with a function `boxCelebs` in the support library that will draw boxes around the faces as before, see if you can get the sample below to work. The documentation for the Rekognition API can be found here: https://docs.aws.amazon.com/AWSJavaScriptSDK/latest/AWS/Rekognition.html"
   ]
  },
  {
   "cell_type": "code",
   "execution_count": null,
   "metadata": {},
   "outputs": [],
   "source": [
    "// load the AWS SDK\n",
    "AWS = require('aws-sdk')\n",
    "support = require('/home/dev/support')\n",
    "\n",
    "// create a Rekogntion object to call\n",
    "rek = new AWS.Rekognition()\n",
    "\n",
    "// configure parameters\n",
    "imageParams = {\n",
    "  Image: {\n",
    "    S3Object: {\n",
    "      Bucket: process.env.MY_BUCKET_NAME,\n",
    "      Name: 'images/2007_iconic_acting_lewis_Cotillard_Swinton_Bardem.jpg'\n",
    "    }\n",
    "  },\n",
    "}\n",
    "\n",
    "\n",
    "/* TODO: fill in the rekognition API to detect celebrties */ (imageParams, (err, data) => {\n",
    "  support.boxCelebs(data.CelebrityFaces, '../data/images/2007_iconic_acting_lewis_Cotillard_Swinton_Bardem.jpg', '../data/images/celebs_boxed.png', err => {\n",
    "    $$.png(require('fs').readFileSync('../data/images/celebs_boxed.png').toString('base64'));\n",
    "  })\n",
    "})\n",
    "\n",
    "$$.clear()"
   ]
  },
  {
   "cell_type": "markdown",
   "metadata": {},
   "source": [
    "# Face Comparison\n",
    "Rekogntion also provides the abiltity to seach for faces within images. This is a powerful capability. Below we have two images. One of Patrick Stewart as Captian Jean Luc Picard and aother with him hanging out with his celebrity buddies at an awards ceremony.\n",
    "\n",
    "<img src='../data/images/picard.jpg' width='300'>&nbsp;&nbsp;<img src='../data/images/Sci-Tech-Oscars-group-photo.jpg' width='600'>\n",
    "\n",
    "We will use Reckognition to see if we can detect Patrick at the awards ceremony given the picture of him in Star Treck. As before see if you can plug in the correct API from the Rekconition documentation which can be found here: https://docs.aws.amazon.com/AWSJavaScriptSDK/latest/AWS/Rekognition.html"
   ]
  },
  {
   "cell_type": "code",
   "execution_count": null,
   "metadata": {},
   "outputs": [],
   "source": [
    "// load the AWS SDK\n",
    "AWS = require('aws-sdk')\n",
    "support = require('/home/dev/support')\n",
    "\n",
    "// create a Rekogntion object to call\n",
    "rek = new AWS.Rekognition()\n",
    "\n",
    "// configure parameters\n",
    "imageParams = {\n",
    "  SimilarityThreshold: 90, \n",
    "  SourceImage: {\n",
    "    S3Object: {\n",
    "      Bucket: process.env.MY_BUCKET_NAME,\n",
    "      Name: \"images/picard.jpg\"\n",
    "    }\n",
    "  }, \n",
    "  TargetImage: {\n",
    "    S3Object: {\n",
    "     Bucket: process.env.MY_BUCKET_NAME,\n",
    "     Name: \"images/Sci-Tech-Oscars-group-photo.jpg\"\n",
    "    }\n",
    "  }\n",
    "}\n",
    "\n",
    "/* TODO: fill in the rekognition API to detect celebrties */(imageParams, (err, data) => {\n",
    "support.boxImage(data.FaceMatches, '../data/images/Sci-Tech-Oscars-group-photo.jpg', '../data/images/sci-oscars_boxed.png', err => {\n",
    "    $$.png(require('fs').readFileSync('../data/images/sci-oscars_boxed.png').toString('base64'));\n",
    "  })\n",
    "})\n",
    "\n",
    "$$.clear()"
   ]
  },
  {
   "cell_type": "markdown",
   "metadata": {},
   "source": [
    "Congratulations! You have completed Step 5. Let's move onto step 6 and deploy the rest of our system!"
   ]
  },
  {
   "cell_type": "code",
   "execution_count": null,
   "metadata": {},
   "outputs": [],
   "source": []
  }
 ],
 "metadata": {
  "kernelspec": {
   "display_name": "Javascript (Node.js)",
   "language": "javascript",
   "name": "javascript"
  },
  "language_info": {
   "file_extension": ".js",
   "mimetype": "application/javascript",
   "name": "javascript",
   "version": "14.4.0"
  }
 },
 "nbformat": 4,
 "nbformat_minor": 4
}
