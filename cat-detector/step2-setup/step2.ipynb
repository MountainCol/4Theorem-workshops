{
 "cells": [
  {
   "cell_type": "markdown",
   "metadata": {},
   "source": [
    "# Step 2\n",
    "Congratulations! You now have a running container with a notebooks server that is configured for the workshop. Let's just check that we have access to the AWS SDK from this notebook.\n",
    "\n",
    "Run the following code which will list the AWS buckets on your account."
   ]
  },
  {
   "cell_type": "code",
   "execution_count": null,
   "metadata": {},
   "outputs": [],
   "source": [
    "AWS = require('aws-sdk')\n",
    "s3 = new AWS.S3()\n",
    "console.log('test')\n",
    "s3.listBuckets({}, function(err, data) {\n",
    "  if (err) {\n",
    "    console.log(err, err.stack)\n",
    "  }\n",
    "  else {\n",
    "    console.log('No Error!')\n",
    "    console.log(data.Buckets)\n",
    "  }\n",
    "})\n",
    "$$.clear()"
   ]
  },
  {
   "cell_type": "markdown",
   "metadata": {},
   "source": [
    "If the code above runs with no errors we are good to go!\n",
    "\n",
    "__We suggest that you keep this notebook tab open in your browser for the duration of the workshop!__"
   ]
  },
  {
   "cell_type": "code",
   "execution_count": null,
   "metadata": {},
   "outputs": [],
   "source": []
  }
 ],
 "metadata": {
  "kernelspec": {
   "display_name": "Javascript (Node.js)",
   "language": "javascript",
   "name": "javascript"
  },
  "language_info": {
   "file_extension": ".js",
   "mimetype": "application/javascript",
   "name": "javascript",
   "version": "14.4.0"
  }
 },
 "nbformat": 4,
 "nbformat_minor": 4
}
