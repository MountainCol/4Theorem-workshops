{
 "cells": [
  {
   "cell_type": "markdown",
   "metadata": {},
   "source": [
    "# Step 2\n",
    "Congratulations! You now have a running container with a notebooks server that is configured for the workshop. Let's just check that we have access to the AWS SDK from this notebook.\n",
    "\n",
    "Run the following code which will list the AWS buckets on your account."
   ]
  },
  {
   "cell_type": "code",
   "execution_count": 1,
   "metadata": {},
   "outputs": [
    {
     "name": "stdout",
     "output_type": "stream",
     "text": [
      "test\n",
      "[\n",
      "  {\n",
      "    Name: 'aiasaservicetrainingjune2020',\n",
      "    CreationDate: 2020-06-16T08:14:26.000Z\n",
      "  },\n",
      "  {\n",
      "    Name: 'analysis-service-dev-serverlessdeploymentbucket-uqepnh96v97e',\n",
      "    CreationDate: 2020-10-01T14:12:58.000Z\n",
      "  },\n",
      "  {\n",
      "    Name: 'crawler-service-dev-serverlessdeploymentbucket-38k8w1558dd6',\n",
      "    CreationDate: 2020-09-30T12:55:48.000Z\n",
      "  },\n",
      "  {\n",
      "    Name: 'flibblebibblebopitypoo',\n",
      "    CreationDate: 2020-06-16T07:40:00.000Z\n",
      "  },\n",
      "  {\n",
      "    Name: 'resources-dev-serverlessdeploymentbucket-ic8u5k1y3kts',\n",
      "    CreationDate: 2020-09-30T11:46:53.000Z\n",
      "  },\n",
      "  { Name: 'talkdemodata2020', CreationDate: 2020-02-16T20:37:42.000Z },\n",
      "  {\n",
      "    Name: 'ui-service-dev-serverlessdeploymentbucket-ppgfrvx9q7bs',\n",
      "    CreationDate: 2020-10-01T14:33:43.000Z\n",
      "  }\n",
      "]\n"
     ]
    }
   ],
   "source": [
    "AWS = require('aws-sdk')\n",
    "s3 = new AWS.S3()\n",
    "console.log('test')\n",
    "s3.listBuckets({}, function(err, data) {\n",
    "  if (err) {\n",
    "    console.log(err, err.stack)\n",
    "  }\n",
    "  else {\n",
    "    console.log('No Error!')\n",
    "    console.log(data.Buckets)\n",
    "  }\n",
    "})\n",
    "$$.clear()"
   ]
  }
 ],
 "metadata": {
  "kernelspec": {
   "display_name": "Javascript (Node.js)",
   "language": "javascript",
   "name": "javascript"
  },
  "language_info": {
   "file_extension": ".js",
   "mimetype": "application/javascript",
   "name": "javascript",
   "version": "14.4.0"
  }
 },
 "nbformat": 4,
 "nbformat_minor": 4
}
