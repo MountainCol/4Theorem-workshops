{
 "cells": [
  {
   "cell_type": "markdown",
   "metadata": {},
   "source": [
    "# Step 6\n",
    "You should now have deployed the SQS queues and the Crawler Lambda service. We can use the code in this notebook to test the service. Firstly run the code below to view the contents of your data bucket."
   ]
  },
  {
   "cell_type": "code",
   "execution_count": null,
   "metadata": {},
   "outputs": [],
   "source": [
    "// load the AWS SDK\n",
    "AWS = require('aws-sdk')\n",
    "support = require('../support')\n",
    "\n",
    "// create an S3 object to call\n",
    "s3 = new AWS.S3()\n",
    "\n",
    "// configure parameters\n",
    "params = {\n",
    "    Bucket: process.env.MY_BUCKET_NAME,\n",
    "//    Prefix: 'rekognition'\n",
    "}\n",
    "\n",
    "s3.listObjects(params, function(err, data) {\n",
    "  support.printS3Objects(data.Contents)\n",
    "})\n",
    "$$.clear()"
   ]
  },
  {
   "cell_type": "markdown",
   "metadata": {},
   "source": [
    "## Post a Message\n",
    "To test our crawler service we can post a message to the crawler SQS Queue. The code below will post a messge referencing a test web page with some images. The test page can be viewed here: http://ai-as-a-service.s3-website-eu-west-1.amazonaws.com"
   ]
  },
  {
   "cell_type": "code",
   "execution_count": null,
   "metadata": {},
   "outputs": [],
   "source": [
    "// load the AWS SDK\n",
    "AWS = require('aws-sdk')\n",
    "support = require('../support')\n",
    "\n",
    "// create an SQS object to call\n",
    "sqs = new AWS.SQS()\n",
    "\n",
    "// construct Queue URL\n",
    "queueUrl = `https://sqs.${process.env.AWS_REGION}.amazonaws.com/${process.env.AWS_ACCOUNT_ID}/${process.env.MY_CRAWLER_QUEUE}`\n",
    "\n",
    "// construct message parameters\n",
    "params = {\n",
    "  MessageBody: JSON.stringify({action: 'download', msg: {url: 'http://ai-as-a-service.s3-website-eu-west-1.amazonaws.com'}}),\n",
    "  QueueUrl: queueUrl\n",
    "}\n",
    "\n",
    "// send the message\n",
    "sqs.sendMessage(params, (err, data) => {\n",
    "    if (err) {\n",
    "        console.log(`QUEUE ERROR: ${err}`)\n",
    "    }\n",
    "    else {\n",
    "      console.log(`message id: ${data.MessageId}`)        \n",
    "    }\n",
    "})\n",
    "$$.clear()"
   ]
  },
  {
   "cell_type": "markdown",
   "metadata": {},
   "source": [
    "# 3. Check the Results\n",
    "If you rerun the code in 1. at the top of this notebook, you should see some additoinal files have been downloaded if our crawler executed successfully. You can confirm this if you look in the AWS S3 console.\n",
    "\n",
    "Congratulations! You have now deployed and triggered the crawler Lambda functions through SQS and collected some files for analysis.\n",
    "\n",
    "In the next step we will pass these to the analysis function."
   ]
  },
  {
   "cell_type": "code",
   "execution_count": null,
   "metadata": {},
   "outputs": [],
   "source": []
  }
 ],
 "metadata": {
  "kernelspec": {
   "display_name": "Javascript (Node.js)",
   "language": "javascript",
   "name": "javascript"
  },
  "language_info": {
   "file_extension": ".js",
   "mimetype": "application/javascript",
   "name": "javascript",
   "version": "14.4.0"
  }
 },
 "nbformat": 4,
 "nbformat_minor": 4
}
